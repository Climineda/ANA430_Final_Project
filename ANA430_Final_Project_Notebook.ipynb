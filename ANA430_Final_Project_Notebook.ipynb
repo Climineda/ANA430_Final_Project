{
 "cells": [
  {
   "cell_type": "markdown",
   "id": "e0c8ada5",
   "metadata": {},
   "source": [
    "# ANA430 Final Project: Urban Air Quality & Healthcare Dashboard\n",
    "**Data Scientist:** Climineda\n",
    "\n",
    "## Problem Statement\n",
    "Air pollution, population growth, and strained healthcare systems are critical global concerns. This project aims to visualize relationships between PM2.5 air pollution, population size, and healthcare infrastructure (hospital beds per 1,000 people) across selected countries using live data. Intended users include public health officials and environmental policy makers.\n",
    "\n",
    "**Data Source:** World Bank API"
   ]
  },
  {
   "cell_type": "markdown",
   "id": "27f304a0",
   "metadata": {},
   "source": [
    "## Hypothesis Formulation\n",
    "**Null Hypothesis (H₀):** There is no significant relationship between population size and PM2.5 levels or hospital bed availability.\n",
    "\n",
    "**Alternative Hypothesis (H₁):** Countries with larger populations tend to have higher PM2.5 levels and lower hospital bed availability."
   ]
  },
  {
   "cell_type": "markdown",
   "id": "5cab29a3",
   "metadata": {},
   "source": [
    "## Data Acquisition\n",
    "Using the `wbdata` library to retrieve data from the World Bank API."
   ]
  },
  {
   "cell_type": "code",
   "execution_count": null,
   "id": "bf5ca810",
   "metadata": {},
   "outputs": [],
   "source": [
    "import wbdata\n",
    "import pandas as pd\n",
    "import datetime\n",
    "\n",
    "# Define time frame and countries\n",
    "data_date = (datetime.datetime(2010, 1, 1), datetime.datetime(2021, 12, 31))\n",
    "countries = [\"USA\", \"CHN\", \"IND\", \"BRA\", \"ZAF\"]\n",
    "\n",
    "# Define indicators\n",
    "indicators = {\n",
    "    \"EN.ATM.PM25.MC.M3\": \"PM2.5\",\n",
    "    \"SP.POP.TOTL\": \"Population\",\n",
    "    \"SH.MED.BEDS.ZS\": \"Hospital Beds per 1,000\"\n",
    "}\n",
    "\n",
    "# Pull data\n",
    "df = wbdata.get_dataframe(indicators, country=countries, data_date=data_date, convert_date=True)\n",
    "df = df.reset_index()\n",
    "df.head()"
   ]
  },
  {
   "cell_type": "markdown",
   "id": "1bb64f51",
   "metadata": {},
   "source": [
    "## Data Preparation\n",
    "Cleaning missing values and creating a new metric."
   ]
  },
  {
   "cell_type": "code",
   "execution_count": null,
   "id": "9a4b5fbb",
   "metadata": {},
   "outputs": [],
   "source": [
    "# Drop missing values\n",
    "df.dropna(inplace=True)\n",
    "\n",
    "# Create derived metric\n",
    "df['PM2.5 per 1000 people'] = df['PM2.5'] / (df['Population'] / 1000)\n",
    "\n",
    "df.info()"
   ]
  },
  {
   "cell_type": "markdown",
   "id": "d4c060e3",
   "metadata": {},
   "source": [
    "## Data Analysis\n",
    "Correlation matrix and time-series plot using Plotly."
   ]
  },
  {
   "cell_type": "code",
   "execution_count": null,
   "id": "c0b59bc7",
   "metadata": {},
   "outputs": [],
   "source": [
    "import seaborn as sns\n",
    "import matplotlib.pyplot as plt\n",
    "\n",
    "# Correlation matrix\n",
    "corr = df[['PM2.5', 'Population', 'Hospital Beds per 1,000']].corr()\n",
    "sns.heatmap(corr, annot=True)\n",
    "plt.title(\"Correlation Matrix\")\n",
    "plt.show()"
   ]
  },
  {
   "cell_type": "code",
   "execution_count": null,
   "id": "5dfe86a1",
   "metadata": {},
   "outputs": [],
   "source": [
    "import plotly.express as px\n",
    "\n",
    "# Line plot of PM2.5 by country\n",
    "fig = px.line(df, x='date', y='PM2.5', color='country', title='PM2.5 Levels Over Time')\n",
    "fig.show()"
   ]
  },
  {
   "cell_type": "markdown",
   "id": "bbfdc9b1",
   "metadata": {},
   "source": [
    "## Summary & Actionable Insights\n",
    "This analysis supports decision-makers in understanding the environmental and health impacts of population growth. Real-time tracking of PM2.5 and healthcare capacity allows policy makers to identify high-risk areas and allocate resources efficiently."
   ]
  }
 ],
 "metadata": {},
 "nbformat": 4,
 "nbformat_minor": 5
}
